{
 "cells": [
  {
   "cell_type": "code",
   "execution_count": 1,
   "id": "f684cdbd",
   "metadata": {},
   "outputs": [],
   "source": [
    "import numpy as np\n",
    "import matplotlib.pyplot as plt\n",
    "from scipy.integrate import solve_ivp"
   ]
  },
  {
   "cell_type": "code",
   "execution_count": 26,
   "id": "8e791173",
   "metadata": {},
   "outputs": [],
   "source": [
    "year = 3.1536e7               #Seconds in a year\n",
    "M_sun = 1.9891e30             #Mass of sun in kg\n",
    "M_Ch = 1.435 * M_sun          #Chandra Mass in kg\n",
    "G = 6.6743e-11                #gravitational constant in m^3/kg/s^2\n",
    "c = 299792458                 #speed in m/s\n",
    "D = 3.086e22                  #Distance in meters (1 Mpc)\n",
    "m1 = 0.5 * M_sun              #Mass of WD1 in kg\n",
    "m2 = 0.5 * M_sun              #Mass of WD2 in kg\n",
    "mu = (m1 * m2)/(m1 + m2)      #Reduced Mass of system in kg\n",
    "M = m1 + m2                   #Total mass of system in kg\n",
    "radius = ((7.8e8*((m1/M_Ch)**(-1/3))*((1-((m1/M_Ch)**(4/3)))**(1/2)))/100)              #Radius of the stars (m) \n",
    "fres = 1 / (5 * year)         #Frequency resolution \n",
    "\n",
    "# Define the range of values for the x (e) and y (nu) axes\n",
    "min_e, max_e = 0, 0.98  # Example range for e\n",
    "min_nu, max_nu = 0.0001, 0.0225  # Example range for nu\n",
    "num_points = 100  # Number of points in each axis"
   ]
  },
  {
   "cell_type": "code",
   "execution_count": 27,
   "id": "916bc0b2",
   "metadata": {},
   "outputs": [],
   "source": [
    "# Create the grid of initial conditions\n",
    "e_values = np.linspace(min_e, max_e, num_points)\n",
    "#nu_values = np.linspace(min_nu, max_nu, num_points)\n",
    "log_nu_values = np.linspace(np.log10(min_nu), np.log10(max_nu), num_points)\n",
    "e_grid, log_nu_grid = np.meshgrid(e_values, log_nu_values)"
   ]
  },
  {
   "cell_type": "code",
   "execution_count": 28,
   "id": "737efdf9",
   "metadata": {},
   "outputs": [],
   "source": [
    "#Define our differential equations\n",
    "def dnudt(e, nu):\n",
    "    dnudt = (96/(10*np.pi))*(((c**6)*mu)/((M**3)*(G**2)))*((2*np.pi*(G*M/(c**3)*nu))**(11/3))*((1-(e**2))**(-9/2))*((1+((73/24)*(e**2))+((37/96)*(e**4)))*(1-(e**2)))\n",
    "    return dnudt\n",
    "\n",
    "def dedt(e, nu):\n",
    "    dedt = -1*(e/15)*(((c**3)*mu)/((M**2)*G))*((1-(e**2))**(-7/2))*((2*np.pi*(G*M/(c**3)*nu))**(8/3))*((304+(121*(e**2)))*(1-(e**2)))\n",
    "    return dedt"
   ]
  },
  {
   "cell_type": "code",
   "execution_count": 29,
   "id": "93175802",
   "metadata": {},
   "outputs": [],
   "source": [
    "def calculate_t_char(e0, nu0):\n",
    "    t_char = nu0 / dnudt(e0, nu0)\n",
    "    return t_char"
   ]
  },
  {
   "cell_type": "code",
   "execution_count": 30,
   "id": "1e560023",
   "metadata": {},
   "outputs": [],
   "source": [
    "#Some useful constants\n",
    "t_M = (G * M)/(c**3)         #Important value\n",
    "f_res = 1/(5 * year)         #Frequency resolution given some observing period"
   ]
  },
  {
   "cell_type": "code",
   "execution_count": 31,
   "id": "b452186f",
   "metadata": {
    "scrolled": false
   },
   "outputs": [
    {
     "name": "stderr",
     "output_type": "stream",
     "text": [
      "/tmp/ipykernel_7824/3649803955.py:50: RuntimeWarning: divide by zero encountered in log\n",
      "  dnu_fres_values[i, j] = np.log(dnu_fres)\n",
      "/tmp/ipykernel_7824/3649803955.py:6: RuntimeWarning: invalid value encountered in scalar power\n",
      "  dAdt  = (96/(10*np.pi))*((t_char/t_M)*(mu/M))*((2*np.pi*A)**(11/3))*((1-(e**2))**(-9/2))*((1+((73/24)*(e**2))+((37/96)*(e**4)))*(1-(e**2)))\n",
      "/tmp/ipykernel_7824/3649803955.py:8: RuntimeWarning: invalid value encountered in scalar power\n",
      "  dedt = -1*(e/15)*((t_char/t_M)*(mu/M))*((1-(e**2))**(-7/2))*((2*np.pi*A)**(8/3))*((304+(121*(e**2)))*(1-(e**2)))\n"
     ]
    }
   ],
   "source": [
    "#Define our coupled differential equations to solve\n",
    "#Must declare t_char as an initial condition with a zero derivative or else solve_ivp gets very mad\n",
    "def coupled_odes(t, y):\n",
    "    A, e, t_char = y\n",
    "    \n",
    "    dAdt  = (96/(10*np.pi))*((t_char/t_M)*(mu/M))*((2*np.pi*A)**(11/3))*((1-(e**2))**(-9/2))*((1+((73/24)*(e**2))+((37/96)*(e**4)))*(1-(e**2)))\n",
    "    \n",
    "    dedt = -1*(e/15)*((t_char/t_M)*(mu/M))*((1-(e**2))**(-7/2))*((2*np.pi*A)**(8/3))*((304+(121*(e**2)))*(1-(e**2)))\n",
    "    \n",
    "    dt_chardt = 0\n",
    "    \n",
    "    return [dAdt, dedt, dt_chardt]\n",
    "\n",
    "# Perform the integration using a loop over the grid of initial conditions\n",
    "dnu_fres_values = np.zeros_like(e_grid)\n",
    "\n",
    "for i in range(num_points):\n",
    "    for j in range(num_points):\n",
    "        e0 = e_grid[i, j]\n",
    "        log_nu0 = log_nu_grid[i, j]\n",
    "        nu0 = 10**log_nu0\n",
    "        \n",
    "        # Calculate the constant for the current initial condition\n",
    "        t_char = calculate_t_char(e0, nu0)\n",
    "        #A modified version of nu\n",
    "        A0 = t_M * nu0\n",
    "        #Initial Time\n",
    "        t0 = 0\n",
    "        #Final Time\n",
    "        tf = (5 * year)/t_char\n",
    "        #Define a time frame\n",
    "        t_span = [t0, tf]\n",
    "        times = np.linspace(t0,tf,10000)\n",
    "        \n",
    "        # Solve the differential equations for each initial condition\n",
    "        sol = solve_ivp(coupled_odes, t_span, [A0, e0, t_char])\n",
    "        \n",
    "        # Extract the solution and calculate delta_nu as the difference between the final and initial nu values\n",
    "        e_solution = sol.y[1]\n",
    "        nu_solution = sol.y[0] / t_M\n",
    "        \n",
    "        a = np.cbrt(((1/nu_solution[-1])**2)*((G*M)/(4*(np.pi**2))))\n",
    "        separation = a * (1 - e_solution[-1])\n",
    "        \n",
    "        if separation <= 2 * radius:\n",
    "            nu_solution[-1] = nu0\n",
    "        \n",
    "        delta_nu = nu_solution[-1] - nu0\n",
    "        dnu_fres = delta_nu / fres\n",
    "        dnu_fres_values[i, j] = np.log(dnu_fres)"
   ]
  },
  {
   "cell_type": "code",
   "execution_count": 32,
   "id": "fab19efe",
   "metadata": {},
   "outputs": [
    {
     "data": {
      "image/png": "[encoded data removed]",
      "text/plain": [
       "<Figure size 640x480 with 2 Axes>"
      ]
     },
     "metadata": {},
     "output_type": "display_data"
    }
   ],
   "source": [
    "# Create a color plot of the delta_nu values\n",
    "plt.pcolormesh(e_grid, 10**log_nu_grid, dnu_fres_values, cmap='jet')\n",
    "plt.colorbar(label='log(Ratio)')\n",
    "plt.xlabel('eccentricity')\n",
    "plt.ylabel(r'$\\nu$ (Hz)')\n",
    "plt.yscale('log')\n",
    "plt.title(r'Ratio over 5 years $(\\Delta\\nu$ / frequency resolution)')\n",
    "plt.show()"
   ]
  },
  {
   "cell_type": "code",
   "execution_count": null,
   "id": "2a058390",
   "metadata": {},
   "outputs": [],
   "source": []
  }
 ],
 "metadata": {
  "kernelspec": {
   "display_name": "Python 3 (ipykernel)",
   "language": "python",
   "name": "python3"
  },
  "language_info": {
   "codemirror_mode": {
    "name": "ipython",
    "version": 3
   },
   "file_extension": ".py",
   "mimetype": "text/x-python",
   "name": "python",
   "nbconvert_exporter": "python",
   "pygments_lexer": "ipython3",
   "version": "3.9.13"
  }
 },
 "nbformat": 4,
 "nbformat_minor": 5
}
